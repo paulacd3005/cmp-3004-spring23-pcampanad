{
 "cells": [
  {
   "attachments": {},
   "cell_type": "markdown",
   "metadata": {},
   "source": [
    "## CMP-3004\n",
    "## Computer Organization\n",
    "\n",
    "### Spring 2023"
   ]
  },
  {
   "attachments": {},
   "cell_type": "markdown",
   "metadata": {},
   "source": [
    "## Homework 2"
   ]
  },
  {
   "attachments": {},
   "cell_type": "markdown",
   "metadata": {},
   "source": [
    "### 1. List and briefly define the possible states that define an instruction execution."
   ]
  },
  {
   "attachments": {},
   "cell_type": "markdown",
   "metadata": {},
   "source": [
    "Cuando se ejecuta una instrucción, esto se encuentra en un ciclo en donde el procesador puede estar en uno de los siguientes estados:\n",
    "\n",
    "Fetch: En este estado el procesador busca la instrucción en la memoria principal y luego ayuda a registrar la instruccion en el registro donde se encuentran las instrucciones. \n",
    "\n",
    "Decode: En este estado el procesador se encarga de decodificar la instruccion, es decir la analiza y permite determinar que operacion se va a realizar que operando se desea utilizar o se va a utilizar y ademas determina la operacion que esta instruccion representa.\n",
    "\n",
    "Evaluate Address: En este estado el procesador se enfoca en determinar la direccion de memoria de donde vino la instruccion y asi mismo determina la direccion de memoria donde se va a guardar el resultado de la operacion.\n",
    "\n",
    "Fetch Operands: En este estado el procesador se enfoca en buscar los operandos en la memoria o en los registros para luego mandar al siguiente estado el cual es el execute para que sepa que operacion realizar. \n",
    "\n",
    "Execute: En este estado el procesador ahora realiza la operacion que previamente se lo indico.\n",
    "\n",
    "Store Result: En este estado el procesador recoge lo que se ejecuto y ahora lo guarda en la memoria o en los registros de resultados."
   ]
  },
  {
   "attachments": {},
   "cell_type": "markdown",
   "metadata": {},
   "source": [
    "### 2. What types of transfers must a computer’s interconnection structure (e.g., bus) support?"
   ]
  },
  {
   "attachments": {},
   "cell_type": "markdown",
   "metadata": {},
   "source": [
    "Existen varios tipos de transferencia que debe soportar la estructura de interconexión de un computador, estos son:\n",
    "- Data transfer \n",
    "- addressing modes \n",
    "- control transfer\n",
    "\n",
    "(los 3 anteriores pertenecen a bus)\n",
    "\n",
    "- I/O transfer \n",
    "- Interrupt transfer \n",
    "- timing transfer\n",
    "- status transfer"
   ]
  },
  {
   "attachments": {},
   "cell_type": "markdown",
   "metadata": {},
   "source": [
    "### 3. Consider a hypothetical 32-bit microprocessor having 32-bit instructions composed of two fields: the first byte contains the opcode and the remainder the immediate operand or an operand address.\n",
    "a. What is the maximum directly addressable memory capacity (in bytes)?\n",
    "\n",
    "b. Discuss the impact on the system speed if the microprocessor bus has:\n",
    "\n",
    "    1. 32-bit local address bus and a 16-bit local data bus, or\n",
    "    2. 16-bit local address bus and a 16-bit local data bus.\n",
    "\n",
    "c. How many bits are needed for the program counter and the instruction register?"
   ]
  },
  {
   "attachments": {},
   "cell_type": "markdown",
   "metadata": {},
   "source": [
    "### 4. A microprocessor is clocked at a rate of 5 GHz.\n",
    "a. How long is a clock cycle?\n",
    "\n",
    "b. What is the duration of a particular type of machine instruction consisting of three clock cycles?"
   ]
  },
  {
   "attachments": {},
   "cell_type": "markdown",
   "metadata": {},
   "source": [
    "### **Datos:**\n",
    "Microprocesador tiene una frecuencia de 5 GHz\n",
    "\n",
    "### **Solucion:**\n",
    "a. Para poder calcular que tan largo es un ciclo de reloj, se debe dividir 1 para la frecuencia: \n",
    "\n",
    "Clock cycle = 1 / 5 GHz = 0.2 ns\n",
    "\n",
    "Con esto podemos decir que un ciclo de reloj dura 0.2 ns\n",
    "\n",
    "b. Ahora en cambio dice que cuanto durara un tipo particular de maquina que consiste de 3 ciclos de reloj, para encontrar esto, se debe multiplicar el tiempo que obtuvimos previamente por 3:\n",
    "\n",
    "Duracion de la maquina = 0.2 ns * 3 = 0.6 ns\n",
    "\n",
    "Ahora tenemos que la duracion de esta maquina que tiene 3 ciclos de reloj es de 0.6 ns"
   ]
  },
  {
   "attachments": {},
   "cell_type": "markdown",
   "metadata": {},
   "source": [
    "### 5. Suppose you wish to run a program P with $7.5 \\times 10^9$ instructions on a 5 GHz machine with a CPI of 0.8.\n",
    "a. What is the expected CPU time?\n",
    "\n",
    "b. When you run P, it takes 3 seconds of wall clock time to complete. What is the percentage of the CPU time P received?"
   ]
  },
  {
   "attachments": {},
   "cell_type": "markdown",
   "metadata": {},
   "source": [
    "### 6. A nonpipelined processor has a clock rate of 2.5 GHz and an average CPI (cycles per instruction) of 4. An upgrade to the processor introduces a five-stage pipeline. However, due to internal pipeline delays, such as latch delay, the clock rate of the new processor has to be reduced to 2 GHz. What is the speedup achieved for a typical program?"
   ]
  },
  {
   "attachments": {},
   "cell_type": "markdown",
   "metadata": {},
   "source": [
    "### **Datos:** \n",
    "- Clock Rate Viejo: 2.5 GHz\n",
    "- CPI: 4\n",
    "- Clock Rate Nuevo: 2 GHz\n",
    "\n",
    "### **Buscamos encontrar:**\n",
    "- CPI nuevo\n",
    "- Tiempo de ejecucion nuevo\n",
    "- Speedup achieved for a typical program\n",
    "\n",
    "### **Proceso:** \n",
    "\n",
    "Speedup = Tiempo de ejecucion viejo / Tiempo de ejecucion nuevo\n",
    "\n",
    "Tiempo de ejecucion: CPI / Clock Rate viejo\n",
    "\n",
    "Tiempo de ejecucion viejo = 4 / 2.5 GHz = 1.6 ns\n",
    "\n",
    "CPI nuevo = CPI viejo + 1 (porque se agrego un pipeline)\n",
    "\n",
    "CPI nuevo = 4 + 1 = 5\n",
    "\n",
    "Tiempo de ejecucion nuevo = CPI nuevo / Clock Rate nuevo\n",
    "\n",
    "Tiempo de ejecucion nuevo = 5 / 2 GHz = 2.5 ns\n",
    "\n",
    "Speedup = 1.6 ns / 2.5 ns = 0.64\n",
    "\n",
    "El speedup achieved for a typical program es de 0.64"
   ]
  }
 ],
 "metadata": {
  "language_info": {
   "name": "python"
  },
  "orig_nbformat": 4
 },
 "nbformat": 4,
 "nbformat_minor": 2
}
